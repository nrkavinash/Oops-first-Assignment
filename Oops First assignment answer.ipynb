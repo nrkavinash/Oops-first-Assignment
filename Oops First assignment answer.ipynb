{
 "cells": [
  {
   "cell_type": "code",
   "execution_count": null,
   "id": "e50190fd-6873-477c-8b93-f9b3370ffeb3",
   "metadata": {},
   "outputs": [],
   "source": []
  },
  {
   "cell_type": "code",
   "execution_count": null,
   "id": "1f72cd26-e336-455f-aae4-52e099bf559f",
   "metadata": {},
   "outputs": [],
   "source": []
  },
  {
   "cell_type": "code",
   "execution_count": null,
   "id": "036b7aa0-914a-4349-8f0d-e05f1354aed7",
   "metadata": {},
   "outputs": [],
   "source": []
  },
  {
   "cell_type": "markdown",
   "id": "43e5895b-5fb8-4f9e-8901-b0f07d8faf14",
   "metadata": {},
   "source": [
    "## Q3 Answer __init__ fuction example"
   ]
  },
  {
   "cell_type": "code",
   "execution_count": 29,
   "id": "06e312ce-597b-4ad6-a29f-5cf0fb00d8ff",
   "metadata": {},
   "outputs": [
    {
     "name": "stdout",
     "output_type": "stream",
     "text": [
      "aanand\n",
      "27\n"
     ]
    }
   ],
   "source": [
    "class Person():\n",
    "    def __init__(self,name,age):\n",
    "        self.name = name\n",
    "        self.age = age\n",
    "    \n",
    "P1 = Person(\"aanand\",27)\n",
    "print(P1.name)\n",
    "print(P1.age)"
   ]
  },
  {
   "cell_type": "markdown",
   "id": "c5797c88-4701-4858-be9e-097096095202",
   "metadata": {},
   "source": [
    "# Q5 Answer inheritance types examples"
   ]
  },
  {
   "cell_type": "markdown",
   "id": "1f20e21d-4ed2-4db6-80b2-5db24405652e",
   "metadata": {},
   "source": [
    "## single type heritance"
   ]
  },
  {
   "cell_type": "code",
   "execution_count": 6,
   "id": "53c671d2-0065-409b-a8bb-bff8d96bef89",
   "metadata": {},
   "outputs": [
    {
     "name": "stdout",
     "output_type": "stream",
     "text": [
      "Hey there, you are in the parent class\n",
      "Hey there, you are in the sub class\n",
      "Hey there, you are in the parent class\n",
      "10\n",
      "5\n"
     ]
    }
   ],
   "source": [
    "\n",
    "#parent class\n",
    "class Above:\n",
    "    i = 5\n",
    "    def fun1(self):\n",
    "        print(\"Hey there, you are in the parent class\")\n",
    "\n",
    "#subclass\n",
    "class Below(Above):\n",
    "    i=10\n",
    "    def fun2(self):\n",
    "        print(\"Hey there, you are in the sub class\")\n",
    "\n",
    "temp1=Below()\n",
    "temp2=Above()\n",
    "temp1.fun1()\n",
    "temp1.fun2()\n",
    "temp2.fun1()\n",
    "print(temp1.i)\n",
    "print(temp2.i)\n",
    "#temp2.fun2()"
   ]
  },
  {
   "cell_type": "markdown",
   "id": "2c2dc7bd-743f-4f7c-8f26-819a8c9f4f6e",
   "metadata": {},
   "source": [
    "## Multiple inheritance"
   ]
  },
  {
   "cell_type": "code",
   "execution_count": 8,
   "id": "c348e815-08ca-4f77-8578-e3b727636679",
   "metadata": {},
   "outputs": [
    {
     "name": "stdout",
     "output_type": "stream",
     "text": [
      "hey there,you are in the parent clss\n",
      "first number is :  10\n",
      "second number is :  5\n"
     ]
    }
   ],
   "source": [
    "#parent class 1\n",
    "class A:\n",
    "    demo1=0\n",
    "    def fun1(self):\n",
    "        print(self.demo1)\n",
    "\n",
    "#parent class 2\n",
    "class B:\n",
    "    demo2=0\n",
    "    def fun2(self):\n",
    "        print(self.demo2)\n",
    "\n",
    "#child class\n",
    "class C(A, B):\n",
    "    def fun3(self):\n",
    "        print(\"hey there,you are in the parent clss\")\n",
    "\n",
    "# Main code\n",
    "c = C()\n",
    "c.demo1 = 10\n",
    "c.demo2 = 5\n",
    "c.fun3()\n",
    "print(\"first number is : \",c.demo1)\n",
    "print(\"second number is : \",c.demo2)"
   ]
  },
  {
   "cell_type": "markdown",
   "id": "cd9f0b6e-5691-4a4c-8eee-1385d12c2c54",
   "metadata": {},
   "source": [
    "## Multi-level Inheritance"
   ]
  },
  {
   "cell_type": "code",
   "execution_count": 15,
   "id": "712553ea-d1bb-4381-b96c-56200ac34481",
   "metadata": {},
   "outputs": [
    {
     "name": "stdout",
     "output_type": "stream",
     "text": [
      "electric car runs on electricity\n",
      "a car has 4 wheels\n",
      "vehicles are used for transportation\n"
     ]
    }
   ],
   "source": [
    "#parent class 1\n",
    "\n",
    "class vehicle:\n",
    "    def functioning(self):\n",
    "        print (\"vehicles are used for transportation\")\n",
    "\n",
    "#child class 1\n",
    "class car(vehicle):\n",
    "    def wheels(self):\n",
    "        print(\"a car has 4 wheels\")\n",
    "              \n",
    "#child class 2\n",
    "class electric_car(car):\n",
    "    def speciality(self):\n",
    "        print (\"electric car runs on electricity\")\n",
    "\n",
    "electric = electric_car()\n",
    "electric.speciality()\n",
    "electric.wheels()\n",
    "electric.functioning()\n"
   ]
  },
  {
   "cell_type": "markdown",
   "id": "c9f1a108-a2d8-4d47-9e53-0ae60f0933fe",
   "metadata": {},
   "source": [
    "## Hierarchical Inheritance"
   ]
  },
  {
   "cell_type": "code",
   "execution_count": 18,
   "id": "0364563f-4f4d-4db2-bef4-d4b3298ae511",
   "metadata": {},
   "outputs": [
    {
     "name": "stdout",
     "output_type": "stream",
     "text": [
      "Hey there, you are in the parent class\n",
      "Hey there, you are in the child class 3\n",
      "Hey there, you are in the parent class\n",
      "Hey there, you are in the child class 2\n",
      "Hey there, you are in the parent class\n",
      "Hey there, you are in the child class 1\n"
     ]
    }
   ],
   "source": [
    "#parent class\n",
    "class Parent:\n",
    "    def fun1(self):\n",
    "        print (\"Hey there, you are in the parent class\")\n",
    "        \n",
    "#child class 1\n",
    "class child1(Parent):\n",
    "    def fun2(self):\n",
    "        print (\"Hey there, you are in the child class 1\")\n",
    "\n",
    "#child class 2 \n",
    "class child2(Parent):\n",
    "    def fun3(self):\n",
    "        print (\"Hey there, you are in the child class 2\")\n",
    "        \n",
    "#child class 3\n",
    "class child3(Parent):\n",
    "    def fun4(self):\n",
    "        print (\"Hey there, you are in the child class 3\")\n",
    "\n",
    "# Main Program\n",
    "child_obj1 = child3()\n",
    "child_obj2 = child2()\n",
    "child_obj3 = child1()\n",
    "child_obj1.fun1()\n",
    "child_obj1.fun4()\n",
    "child_obj2.fun1()\n",
    "child_obj2.fun3()\n",
    "child_obj3.fun1()\n",
    "child_obj3.fun2()"
   ]
  },
  {
   "cell_type": "code",
   "execution_count": null,
   "id": "e54623d7-a1f2-42e7-bf41-b8731d45b193",
   "metadata": {},
   "outputs": [],
   "source": []
  }
 ],
 "metadata": {
  "kernelspec": {
   "display_name": "Python 3 (ipykernel)",
   "language": "python",
   "name": "python3"
  },
  "language_info": {
   "codemirror_mode": {
    "name": "ipython",
    "version": 3
   },
   "file_extension": ".py",
   "mimetype": "text/x-python",
   "name": "python",
   "nbconvert_exporter": "python",
   "pygments_lexer": "ipython3",
   "version": "3.10.8"
  }
 },
 "nbformat": 4,
 "nbformat_minor": 5
}
